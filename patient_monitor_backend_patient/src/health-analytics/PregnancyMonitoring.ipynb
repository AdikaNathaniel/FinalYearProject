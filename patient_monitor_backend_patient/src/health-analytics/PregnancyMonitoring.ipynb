{
  "nbformat": 4,
  "nbformat_minor": 0,
  "metadata": {
    "colab": {
      "provenance": []
    },
    "kernelspec": {
      "name": "python3",
      "display_name": "Python 3"
    },
    "language_info": {
      "name": "python"
    }
  },
  "cells": [
    {
      "cell_type": "code",
      "execution_count": 5,
      "metadata": {
        "colab": {
          "base_uri": "https://localhost:8080/"
        },
        "id": "uCxnY29AlWSJ",
        "outputId": "3be747e0-73ac-4f89-a9e7-0949d5440ad7"
      },
      "outputs": [
        {
          "output_type": "stream",
          "name": "stdout",
          "text": [
            "Requirement already satisfied: faker in /usr/local/lib/python3.11/dist-packages (37.1.0)\n",
            "Requirement already satisfied: tzdata in /usr/local/lib/python3.11/dist-packages (from faker) (2025.2)\n"
          ]
        }
      ],
      "source": [
        "pip install faker"
      ]
    },
    {
      "cell_type": "code",
      "source": [
        "import csv\n",
        "import random\n",
        "from faker import Faker\n",
        "\n",
        "fake = Faker()\n",
        "\n",
        "# Set random seed for reproducibility\n",
        "random.seed(42)\n",
        "\n",
        "# Define headers\n",
        "headers = [\n",
        "    \"patient_name\",\n",
        "    \"gestational_week\",\n",
        "    \"body_temperature_c\",\n",
        "    \"systolic_bp_mmHg\",\n",
        "    \"diastolic_bp_mmHg\",\n",
        "    \"blood_glucose_mg_dL\",\n",
        "    \"oxygen_saturation_percent\",\n",
        "    \"heart_rate_bpm\",\n",
        "    \"protein_urine_scale\",  # 1-10 scale\n",
        "    \"weight_kg\",\n",
        "    \"height_cm\",\n",
        "    \"bmi\",\n",
        "    \"past_history_anemia\",       # 0=no, 1=yes\n",
        "    \"past_history_diabetes\",     # 0=no, 1=yes\n",
        "    \"past_history_preeclampsia\"  # 0=no, 1=yes\n",
        "]\n",
        "\n",
        "# Define medically realistic ranges\n",
        "normal_ranges = {\n",
        "    \"body_temperature\": (36.1, 37.2),       # °C\n",
        "    \"systolic_bp\": (100, 120),              # mmHg\n",
        "    \"diastolic_bp\": (60, 80),               # mmHg\n",
        "    \"blood_glucose_fasting\": (70, 95),      # mg/dL\n",
        "    \"blood_glucose_postprandial\": (90, 140), # mg/dL 1-2 hours after eating\n",
        "    \"oxygen_saturation\": (95, 100),         # %\n",
        "    \"heart_rate\": (70, 90),                 # bpm\n",
        "    \"weight_first_trimester\": (45, 90),     # kg\n",
        "    \"height\": (150, 180)                    # cm\n",
        "}\n",
        "\n",
        "def generate_patient_data():\n",
        "    # Generate realistic patient details\n",
        "    name = fake.name()\n",
        "    gestational_week = random.randint(6, 40)\n",
        "    height = round(random.uniform(150, 180), 1)\n",
        "\n",
        "    # Base weight with pregnancy adjustment\n",
        "    base_weight = random.uniform(45, 90)\n",
        "    pregnancy_weight_gain = random.uniform(0, 0.5) * gestational_week\n",
        "    weight = round(base_weight + pregnancy_weight_gain, 1)\n",
        "    bmi = round(weight / ((height/100) ** 2), 1)\n",
        "\n",
        "    # Generate random past medical history (independent probabilities)\n",
        "    past_anemia = 1 if random.random() < 0.15 else 0       # 15% prevalence\n",
        "    past_diabetes = 1 if random.random() < 0.10 else 0      # 10% prevalence\n",
        "    past_preeclampsia = 1 if random.random() < 0.08 else 0  # 8% prevalence\n",
        "\n",
        "    # Generate current health metrics (influenced by past history)\n",
        "    # Base values\n",
        "    temp = round(random.uniform(36.1, 37.2), 1)\n",
        "    systolic = random.randint(100, 120)\n",
        "    diastolic = random.randint(60, 80)\n",
        "    glucose = random.choice([\n",
        "        random.randint(70, 95),  # fasting\n",
        "        random.randint(90, 140)  # postprandial\n",
        "    ])\n",
        "    oxygen = random.randint(95, 100)\n",
        "    heart_rate = random.randint(70, 90)\n",
        "    protein = random.randint(1, 2)  # normal is very low\n",
        "\n",
        "    # Adjust for past conditions\n",
        "    if past_anemia:\n",
        "        oxygen = max(88, oxygen - random.randint(0, 5))\n",
        "        heart_rate = min(110, heart_rate + random.randint(5, 15))\n",
        "\n",
        "    if past_diabetes:\n",
        "        glucose = min(200, glucose + random.randint(10, 40))\n",
        "\n",
        "    if past_preeclampsia:\n",
        "        systolic = min(160, systolic + random.randint(5, 20))\n",
        "        diastolic = min(110, diastolic + random.randint(5, 15))\n",
        "        protein = min(10, protein + random.randint(1, 3))\n",
        "\n",
        "    return [\n",
        "        name,\n",
        "        gestational_week,\n",
        "        temp,\n",
        "        systolic,\n",
        "        diastolic,\n",
        "        glucose,\n",
        "        oxygen,\n",
        "        heart_rate,\n",
        "        protein,\n",
        "        weight,\n",
        "        height,\n",
        "        bmi,\n",
        "        past_anemia,\n",
        "        past_diabetes,\n",
        "        past_preeclampsia\n",
        "    ]\n",
        "\n",
        "# Generate data\n",
        "data = [headers]\n",
        "for _ in range(10000):\n",
        "    data.append(generate_patient_data())\n",
        "\n",
        "# Write to CSV\n",
        "filename = \"pregnancy_health_data_with_history.csv\"\n",
        "with open(filename, mode='w', newline='') as file:\n",
        "    writer = csv.writer(file)\n",
        "    writer.writerows(data)\n",
        "\n",
        "print(f\"Generated {filename} with {len(data)-1} rows of data.\")\n",
        "print(\"Past history prevalence:\")\n",
        "print(f\"Anemia: {sum(row[-3] for row in data[1:])} cases\")\n",
        "print(f\"Gestational diabetes: {sum(row[-2] for row in data[1:])} cases\")\n",
        "print(f\"Preeclampsia: {sum(row[-1] for row in data[1:])} cases\")"
      ],
      "metadata": {
        "colab": {
          "base_uri": "https://localhost:8080/"
        },
        "id": "aK-Et1qBljDj",
        "outputId": "2f4f9fea-8abe-4c71-d93e-c6c1042742a4"
      },
      "execution_count": 6,
      "outputs": [
        {
          "output_type": "stream",
          "name": "stdout",
          "text": [
            "Generated pregnancy_health_data_with_history.csv with 10000 rows of data.\n",
            "Past history prevalence:\n",
            "Anemia: 1559 cases\n",
            "Gestational diabetes: 1024 cases\n",
            "Preeclampsia: 752 cases\n"
          ]
        }
      ]
    },
    {
      "cell_type": "code",
      "source": [
        "from google.colab import files\n",
        "files.download(filename)\n"
      ],
      "metadata": {
        "colab": {
          "base_uri": "https://localhost:8080/",
          "height": 17
        },
        "id": "56-N40XvmFxb",
        "outputId": "6661865f-dd91-41f1-e9dd-6ec1b0f51d05"
      },
      "execution_count": 7,
      "outputs": [
        {
          "output_type": "display_data",
          "data": {
            "text/plain": [
              "<IPython.core.display.Javascript object>"
            ],
            "application/javascript": [
              "\n",
              "    async function download(id, filename, size) {\n",
              "      if (!google.colab.kernel.accessAllowed) {\n",
              "        return;\n",
              "      }\n",
              "      const div = document.createElement('div');\n",
              "      const label = document.createElement('label');\n",
              "      label.textContent = `Downloading \"${filename}\": `;\n",
              "      div.appendChild(label);\n",
              "      const progress = document.createElement('progress');\n",
              "      progress.max = size;\n",
              "      div.appendChild(progress);\n",
              "      document.body.appendChild(div);\n",
              "\n",
              "      const buffers = [];\n",
              "      let downloaded = 0;\n",
              "\n",
              "      const channel = await google.colab.kernel.comms.open(id);\n",
              "      // Send a message to notify the kernel that we're ready.\n",
              "      channel.send({})\n",
              "\n",
              "      for await (const message of channel.messages) {\n",
              "        // Send a message to notify the kernel that we're ready.\n",
              "        channel.send({})\n",
              "        if (message.buffers) {\n",
              "          for (const buffer of message.buffers) {\n",
              "            buffers.push(buffer);\n",
              "            downloaded += buffer.byteLength;\n",
              "            progress.value = downloaded;\n",
              "          }\n",
              "        }\n",
              "      }\n",
              "      const blob = new Blob(buffers, {type: 'application/binary'});\n",
              "      const a = document.createElement('a');\n",
              "      a.href = window.URL.createObjectURL(blob);\n",
              "      a.download = filename;\n",
              "      div.appendChild(a);\n",
              "      a.click();\n",
              "      div.remove();\n",
              "    }\n",
              "  "
            ]
          },
          "metadata": {}
        },
        {
          "output_type": "display_data",
          "data": {
            "text/plain": [
              "<IPython.core.display.Javascript object>"
            ],
            "application/javascript": [
              "download(\"download_d7268fd0-2833-4ca2-aa76-baf3a57b5145\", \"pregnancy_health_data_with_history.csv\", 638231)"
            ]
          },
          "metadata": {}
        }
      ]
    }
  ]
}